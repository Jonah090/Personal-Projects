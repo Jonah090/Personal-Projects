{
 "cells": [
  {
   "cell_type": "code",
   "execution_count": 1,
   "metadata": {
    "ExecuteTime": {
     "end_time": "2021-02-18T13:09:56.946408Z",
     "start_time": "2021-02-18T13:09:37.138275Z"
    }
   },
   "outputs": [],
   "source": [
    "import pandas as pd\n",
    "import numpy as np\n",
    "import matplotlib.pyplot as plt\n",
    "import seaborn as sns\n",
    "from sklearn.decomposition import PCA\n",
    "from sklearn.preprocessing import scale"
   ]
  },
  {
   "cell_type": "code",
   "execution_count": 2,
   "metadata": {
    "ExecuteTime": {
     "end_time": "2021-02-18T13:09:57.240424Z",
     "start_time": "2021-02-18T13:09:56.960408Z"
    }
   },
   "outputs": [
    {
     "data": {
      "text/html": [
       "<div>\n",
       "<style scoped>\n",
       "    .dataframe tbody tr th:only-of-type {\n",
       "        vertical-align: middle;\n",
       "    }\n",
       "\n",
       "    .dataframe tbody tr th {\n",
       "        vertical-align: top;\n",
       "    }\n",
       "\n",
       "    .dataframe thead th {\n",
       "        text-align: right;\n",
       "    }\n",
       "</style>\n",
       "<table border=\"1\" class=\"dataframe\">\n",
       "  <thead>\n",
       "    <tr style=\"text-align: right;\">\n",
       "      <th></th>\n",
       "      <th>Type</th>\n",
       "      <th>Alcohol</th>\n",
       "      <th>Malic</th>\n",
       "      <th>Ash</th>\n",
       "      <th>Alcalinity</th>\n",
       "      <th>Magnesium</th>\n",
       "      <th>Phenols</th>\n",
       "      <th>Flavanoids</th>\n",
       "      <th>Nonflavanoids</th>\n",
       "      <th>Proanthocyanins</th>\n",
       "      <th>Color</th>\n",
       "      <th>Hue</th>\n",
       "      <th>Dilution</th>\n",
       "      <th>Proline</th>\n",
       "    </tr>\n",
       "  </thead>\n",
       "  <tbody>\n",
       "    <tr>\n",
       "      <th>0</th>\n",
       "      <td>1</td>\n",
       "      <td>14.23</td>\n",
       "      <td>1.71</td>\n",
       "      <td>2.43</td>\n",
       "      <td>15.6</td>\n",
       "      <td>127</td>\n",
       "      <td>2.80</td>\n",
       "      <td>3.06</td>\n",
       "      <td>0.28</td>\n",
       "      <td>2.29</td>\n",
       "      <td>5.64</td>\n",
       "      <td>1.04</td>\n",
       "      <td>3.92</td>\n",
       "      <td>1065</td>\n",
       "    </tr>\n",
       "    <tr>\n",
       "      <th>1</th>\n",
       "      <td>1</td>\n",
       "      <td>13.20</td>\n",
       "      <td>1.78</td>\n",
       "      <td>2.14</td>\n",
       "      <td>11.2</td>\n",
       "      <td>100</td>\n",
       "      <td>2.65</td>\n",
       "      <td>2.76</td>\n",
       "      <td>0.26</td>\n",
       "      <td>1.28</td>\n",
       "      <td>4.38</td>\n",
       "      <td>1.05</td>\n",
       "      <td>3.40</td>\n",
       "      <td>1050</td>\n",
       "    </tr>\n",
       "    <tr>\n",
       "      <th>2</th>\n",
       "      <td>1</td>\n",
       "      <td>13.16</td>\n",
       "      <td>2.36</td>\n",
       "      <td>2.67</td>\n",
       "      <td>18.6</td>\n",
       "      <td>101</td>\n",
       "      <td>2.80</td>\n",
       "      <td>3.24</td>\n",
       "      <td>0.30</td>\n",
       "      <td>2.81</td>\n",
       "      <td>5.68</td>\n",
       "      <td>1.03</td>\n",
       "      <td>3.17</td>\n",
       "      <td>1185</td>\n",
       "    </tr>\n",
       "    <tr>\n",
       "      <th>3</th>\n",
       "      <td>1</td>\n",
       "      <td>14.37</td>\n",
       "      <td>1.95</td>\n",
       "      <td>2.50</td>\n",
       "      <td>16.8</td>\n",
       "      <td>113</td>\n",
       "      <td>3.85</td>\n",
       "      <td>3.49</td>\n",
       "      <td>0.24</td>\n",
       "      <td>2.18</td>\n",
       "      <td>7.80</td>\n",
       "      <td>0.86</td>\n",
       "      <td>3.45</td>\n",
       "      <td>1480</td>\n",
       "    </tr>\n",
       "    <tr>\n",
       "      <th>4</th>\n",
       "      <td>1</td>\n",
       "      <td>13.24</td>\n",
       "      <td>2.59</td>\n",
       "      <td>2.87</td>\n",
       "      <td>21.0</td>\n",
       "      <td>118</td>\n",
       "      <td>2.80</td>\n",
       "      <td>2.69</td>\n",
       "      <td>0.39</td>\n",
       "      <td>1.82</td>\n",
       "      <td>4.32</td>\n",
       "      <td>1.04</td>\n",
       "      <td>2.93</td>\n",
       "      <td>735</td>\n",
       "    </tr>\n",
       "    <tr>\n",
       "      <th>...</th>\n",
       "      <td>...</td>\n",
       "      <td>...</td>\n",
       "      <td>...</td>\n",
       "      <td>...</td>\n",
       "      <td>...</td>\n",
       "      <td>...</td>\n",
       "      <td>...</td>\n",
       "      <td>...</td>\n",
       "      <td>...</td>\n",
       "      <td>...</td>\n",
       "      <td>...</td>\n",
       "      <td>...</td>\n",
       "      <td>...</td>\n",
       "      <td>...</td>\n",
       "    </tr>\n",
       "    <tr>\n",
       "      <th>173</th>\n",
       "      <td>3</td>\n",
       "      <td>13.71</td>\n",
       "      <td>5.65</td>\n",
       "      <td>2.45</td>\n",
       "      <td>20.5</td>\n",
       "      <td>95</td>\n",
       "      <td>1.68</td>\n",
       "      <td>0.61</td>\n",
       "      <td>0.52</td>\n",
       "      <td>1.06</td>\n",
       "      <td>7.70</td>\n",
       "      <td>0.64</td>\n",
       "      <td>1.74</td>\n",
       "      <td>740</td>\n",
       "    </tr>\n",
       "    <tr>\n",
       "      <th>174</th>\n",
       "      <td>3</td>\n",
       "      <td>13.40</td>\n",
       "      <td>3.91</td>\n",
       "      <td>2.48</td>\n",
       "      <td>23.0</td>\n",
       "      <td>102</td>\n",
       "      <td>1.80</td>\n",
       "      <td>0.75</td>\n",
       "      <td>0.43</td>\n",
       "      <td>1.41</td>\n",
       "      <td>7.30</td>\n",
       "      <td>0.70</td>\n",
       "      <td>1.56</td>\n",
       "      <td>750</td>\n",
       "    </tr>\n",
       "    <tr>\n",
       "      <th>175</th>\n",
       "      <td>3</td>\n",
       "      <td>13.27</td>\n",
       "      <td>4.28</td>\n",
       "      <td>2.26</td>\n",
       "      <td>20.0</td>\n",
       "      <td>120</td>\n",
       "      <td>1.59</td>\n",
       "      <td>0.69</td>\n",
       "      <td>0.43</td>\n",
       "      <td>1.35</td>\n",
       "      <td>10.20</td>\n",
       "      <td>0.59</td>\n",
       "      <td>1.56</td>\n",
       "      <td>835</td>\n",
       "    </tr>\n",
       "    <tr>\n",
       "      <th>176</th>\n",
       "      <td>3</td>\n",
       "      <td>13.17</td>\n",
       "      <td>2.59</td>\n",
       "      <td>2.37</td>\n",
       "      <td>20.0</td>\n",
       "      <td>120</td>\n",
       "      <td>1.65</td>\n",
       "      <td>0.68</td>\n",
       "      <td>0.53</td>\n",
       "      <td>1.46</td>\n",
       "      <td>9.30</td>\n",
       "      <td>0.60</td>\n",
       "      <td>1.62</td>\n",
       "      <td>840</td>\n",
       "    </tr>\n",
       "    <tr>\n",
       "      <th>177</th>\n",
       "      <td>3</td>\n",
       "      <td>14.13</td>\n",
       "      <td>4.10</td>\n",
       "      <td>2.74</td>\n",
       "      <td>24.5</td>\n",
       "      <td>96</td>\n",
       "      <td>2.05</td>\n",
       "      <td>0.76</td>\n",
       "      <td>0.56</td>\n",
       "      <td>1.35</td>\n",
       "      <td>9.20</td>\n",
       "      <td>0.61</td>\n",
       "      <td>1.60</td>\n",
       "      <td>560</td>\n",
       "    </tr>\n",
       "  </tbody>\n",
       "</table>\n",
       "<p>178 rows × 14 columns</p>\n",
       "</div>"
      ],
      "text/plain": [
       "     Type  Alcohol  Malic   Ash  Alcalinity  Magnesium  Phenols  Flavanoids  \\\n",
       "0       1    14.23   1.71  2.43        15.6        127     2.80        3.06   \n",
       "1       1    13.20   1.78  2.14        11.2        100     2.65        2.76   \n",
       "2       1    13.16   2.36  2.67        18.6        101     2.80        3.24   \n",
       "3       1    14.37   1.95  2.50        16.8        113     3.85        3.49   \n",
       "4       1    13.24   2.59  2.87        21.0        118     2.80        2.69   \n",
       "..    ...      ...    ...   ...         ...        ...      ...         ...   \n",
       "173     3    13.71   5.65  2.45        20.5         95     1.68        0.61   \n",
       "174     3    13.40   3.91  2.48        23.0        102     1.80        0.75   \n",
       "175     3    13.27   4.28  2.26        20.0        120     1.59        0.69   \n",
       "176     3    13.17   2.59  2.37        20.0        120     1.65        0.68   \n",
       "177     3    14.13   4.10  2.74        24.5         96     2.05        0.76   \n",
       "\n",
       "     Nonflavanoids  Proanthocyanins  Color   Hue  Dilution  Proline  \n",
       "0             0.28             2.29   5.64  1.04      3.92     1065  \n",
       "1             0.26             1.28   4.38  1.05      3.40     1050  \n",
       "2             0.30             2.81   5.68  1.03      3.17     1185  \n",
       "3             0.24             2.18   7.80  0.86      3.45     1480  \n",
       "4             0.39             1.82   4.32  1.04      2.93      735  \n",
       "..             ...              ...    ...   ...       ...      ...  \n",
       "173           0.52             1.06   7.70  0.64      1.74      740  \n",
       "174           0.43             1.41   7.30  0.70      1.56      750  \n",
       "175           0.43             1.35  10.20  0.59      1.56      835  \n",
       "176           0.53             1.46   9.30  0.60      1.62      840  \n",
       "177           0.56             1.35   9.20  0.61      1.60      560  \n",
       "\n",
       "[178 rows x 14 columns]"
      ]
     },
     "execution_count": 2,
     "metadata": {},
     "output_type": "execute_result"
    }
   ],
   "source": [
    "wine = pd.read_csv(\"wine.csv\")\n",
    "wine"
   ]
  },
  {
   "cell_type": "code",
   "execution_count": 3,
   "metadata": {
    "ExecuteTime": {
     "end_time": "2021-02-18T13:09:57.304428Z",
     "start_time": "2021-02-18T13:09:57.263426Z"
    }
   },
   "outputs": [
    {
     "data": {
      "text/plain": [
       "array([[-1.21394365,  1.51861254, -0.5622498 , ...,  0.36217728,\n",
       "         1.84791957,  1.01300893],\n",
       "       [-1.21394365,  0.24628963, -0.49941338, ...,  0.40605066,\n",
       "         1.1134493 ,  0.96524152],\n",
       "       [-1.21394365,  0.19687903,  0.02123125, ...,  0.31830389,\n",
       "         0.78858745,  1.39514818],\n",
       "       ...,\n",
       "       [ 1.37386437,  0.33275817,  1.74474449, ..., -1.61212515,\n",
       "        -1.48544548,  0.28057537],\n",
       "       [ 1.37386437,  0.20923168,  0.22769377, ..., -1.56825176,\n",
       "        -1.40069891,  0.29649784],\n",
       "       [ 1.37386437,  1.39508604,  1.58316512, ..., -1.52437837,\n",
       "        -1.42894777, -0.59516041]])"
      ]
     },
     "execution_count": 3,
     "metadata": {},
     "output_type": "execute_result"
    }
   ],
   "source": [
    "wine_normal = scale(wine)\n",
    "wine_normal"
   ]
  },
  {
   "cell_type": "code",
   "execution_count": 4,
   "metadata": {
    "ExecuteTime": {
     "end_time": "2021-02-18T13:09:57.656448Z",
     "start_time": "2021-02-18T13:09:57.309428Z"
    }
   },
   "outputs": [
    {
     "data": {
      "text/plain": [
       "array([[-3.52293390e+00, -1.45309844e+00, -1.64795488e-01, ...,\n",
       "         5.52927766e-01, -3.02978176e-01,  2.00857450e-01],\n",
       "       [-2.52885806e+00,  3.30019252e-01, -2.02670665e+00, ...,\n",
       "         3.94971160e-01, -1.46645308e-01,  1.26402355e-01],\n",
       "       [-2.78502898e+00, -1.03693595e+00,  9.83237703e-01, ...,\n",
       "         1.89799314e-03,  2.12780166e-02, -5.57515155e-02],\n",
       "       ...,\n",
       "       [ 3.02727243e+00, -2.75604024e+00, -9.40803036e-01, ...,\n",
       "         6.93336340e-01,  1.67035660e-01, -3.16957430e-02],\n",
       "       [ 2.75522166e+00, -2.29378408e+00, -5.50473677e-01, ...,\n",
       "         3.44119826e-01, -1.09514873e-01,  1.02823104e-01],\n",
       "       [ 3.49633565e+00, -2.76060799e+00,  1.01315115e+00, ...,\n",
       "        -1.89866131e-01, -1.64090011e-01, -2.64916504e-01]])"
      ]
     },
     "execution_count": 4,
     "metadata": {},
     "output_type": "execute_result"
    }
   ],
   "source": [
    "pca = PCA(n_components=14)\n",
    "pca_values = pca.fit_transform(wine_normal)\n",
    "pca_values\n"
   ]
  },
  {
   "cell_type": "code",
   "execution_count": 5,
   "metadata": {
    "ExecuteTime": {
     "end_time": "2021-02-18T13:09:57.811457Z",
     "start_time": "2021-02-18T13:09:57.663449Z"
    }
   },
   "outputs": [
    {
     "data": {
      "text/plain": [
       "array([[ 0.39366953, -0.13632501,  0.22267638, -0.00225793,  0.22429849,\n",
       "        -0.12463016, -0.35926404, -0.39071171,  0.2670012 , -0.2790625 ,\n",
       "         0.08931829, -0.27682265, -0.35052618, -0.26951525],\n",
       "       [-0.00569041, -0.48416087, -0.22359095, -0.31585588,  0.01161574,\n",
       "        -0.30055143, -0.06711983,  0.00131345, -0.0269887 , -0.04122256,\n",
       "        -0.52978274,  0.27790735,  0.16277625, -0.36605886],\n",
       "       [ 0.00121795, -0.20740081,  0.08879606,  0.62610236,  0.6119896 ,\n",
       "         0.13098458,  0.14650775,  0.15096275,  0.16997551,  0.14987959,\n",
       "        -0.1372663 ,  0.08532854,  0.16620436, -0.12668685],\n",
       "       [ 0.12246373, -0.08191848,  0.46988824, -0.24984122,  0.07199322,\n",
       "        -0.16321412,  0.19098521,  0.14461667, -0.32801272,  0.46275771,\n",
       "         0.07211248, -0.43466618,  0.15672341, -0.2557949 ],\n",
       "       [ 0.15758395, -0.25089415, -0.18860015, -0.0935236 ,  0.0465675 ,\n",
       "         0.77833048, -0.14466563, -0.11200553, -0.43257916,  0.0915882 ,\n",
       "        -0.0462696 , -0.02986657, -0.14419358, -0.08440794],\n",
       "       [ 0.20033864, -0.13517139, -0.59841948, -0.10799983,  0.08811224,\n",
       "        -0.14483831,  0.14809748,  0.06247252,  0.25868639,  0.46627764,\n",
       "         0.42525454, -0.01565089, -0.21770365, -0.0665655 ],\n",
       "       [-0.05938234, -0.09269887,  0.3743698 , -0.16708856, -0.26872469,\n",
       "         0.32957951, -0.03789829, -0.06773223,  0.61111195,  0.42292282,\n",
       "        -0.18613617,  0.19204101, -0.0785098 ,  0.0542037 ],\n",
       "       [-0.07179553, -0.42154435, -0.08757556,  0.17208034, -0.41324857,\n",
       "         0.14881189,  0.36343884,  0.175405  ,  0.23075135, -0.3437392 ,\n",
       "         0.04069617, -0.48362564,  0.06865116, -0.11146671],\n",
       "       [-0.16236882, -0.45019071, -0.00602569,  0.26249446, -0.11863342,\n",
       "        -0.25253628, -0.40637354, -0.09091933, -0.15912282,  0.26578679,\n",
       "        -0.07526459, -0.21241681, -0.08426484,  0.54490539],\n",
       "       [-0.19899373,  0.31127983, -0.32592413, -0.12452347,  0.15716811,\n",
       "         0.12773363, -0.30772263, -0.14044   ,  0.24054263,  0.10869629,\n",
       "        -0.21704255, -0.50966073,  0.45570504, -0.04620802],\n",
       "       [ 0.01444169, -0.22154641,  0.06839251, -0.49452428,  0.47461722,\n",
       "         0.07119731,  0.29740957, -0.03219187,  0.12200984, -0.23292405,\n",
       "         0.01972448, -0.06140493,  0.06646166,  0.55130818],\n",
       "       [ 0.01575769, -0.26411262,  0.1192121 , -0.04502305, -0.06131271,\n",
       "         0.06116074, -0.30087591, -0.05001396,  0.04266558, -0.09334264,\n",
       "         0.59795428,  0.25774292,  0.61109218, -0.07268036],\n",
       "       [-0.49224318, -0.05610645,  0.06675544, -0.19201787,  0.20007784,\n",
       "         0.05829909, -0.35952714,  0.59834288,  0.06403952, -0.11013538,\n",
       "         0.15917751, -0.04923091, -0.32941979, -0.17322892],\n",
       "       [ 0.66904528,  0.09062605, -0.02522531, -0.00163582, -0.09536107,\n",
       "         0.02230075, -0.25303779,  0.60190917,  0.08223093, -0.05864198,\n",
       "        -0.17882114, -0.02258256,  0.13509216,  0.21604362]])"
      ]
     },
     "execution_count": 5,
     "metadata": {},
     "output_type": "execute_result"
    }
   ],
   "source": [
    "pca.components_"
   ]
  },
  {
   "cell_type": "code",
   "execution_count": 6,
   "metadata": {
    "ExecuteTime": {
     "end_time": "2021-02-18T13:09:57.981467Z",
     "start_time": "2021-02-18T13:09:57.817457Z"
    }
   },
   "outputs": [
    {
     "data": {
      "text/plain": [
       "array([5.56722458, 2.51118402, 1.45424413, 0.9331603 , 0.88246016,\n",
       "       0.67657935, 0.55692777, 0.35201176, 0.29620602, 0.26378805,\n",
       "       0.2271244 , 0.16975037, 0.13029618, 0.05813894])"
      ]
     },
     "execution_count": 6,
     "metadata": {},
     "output_type": "execute_result"
    }
   ],
   "source": [
    "var = pca.explained_variance_\n",
    "var"
   ]
  },
  {
   "cell_type": "code",
   "execution_count": 7,
   "metadata": {
    "ExecuteTime": {
     "end_time": "2021-02-18T13:09:58.205480Z",
     "start_time": "2021-02-18T13:09:57.985467Z"
    }
   },
   "outputs": [
    {
     "data": {
      "text/plain": [
       "array([ 556.72,  807.84,  953.26, 1046.58, 1134.83, 1202.49, 1258.18,\n",
       "       1293.38, 1323.  , 1349.38, 1372.09, 1389.07, 1402.1 , 1407.91])"
      ]
     },
     "execution_count": 7,
     "metadata": {},
     "output_type": "execute_result"
    }
   ],
   "source": [
    "var1 = np.cumsum(np.round(var,4)*100)\n",
    "var1"
   ]
  },
  {
   "cell_type": "code",
   "execution_count": 8,
   "metadata": {
    "ExecuteTime": {
     "end_time": "2021-02-18T13:09:59.815572Z",
     "start_time": "2021-02-18T13:09:58.214480Z"
    }
   },
   "outputs": [
    {
     "data": {
      "text/plain": [
       "[<matplotlib.lines.Line2D at 0x1c77d580>]"
      ]
     },
     "execution_count": 8,
     "metadata": {},
     "output_type": "execute_result"
    },
    {
     "data": {
      "image/png": "[encoded data removed]",
      "text/plain": [
       "<Figure size 432x288 with 1 Axes>"
      ]
     },
     "metadata": {
      "needs_background": "light"
     },
     "output_type": "display_data"
    }
   ],
   "source": [
    "plt.plot(var1)"
   ]
  },
  {
   "cell_type": "code",
   "execution_count": 9,
   "metadata": {
    "ExecuteTime": {
     "end_time": "2021-02-18T13:09:59.880575Z",
     "start_time": "2021-02-18T13:09:59.845573Z"
    }
   },
   "outputs": [
    {
     "data": {
      "text/plain": [
       "array([[-3.5229339 , -1.45309844],\n",
       "       [-2.52885806,  0.33001925],\n",
       "       [-2.78502898, -1.03693595],\n",
       "       [-3.92258841, -2.76821026],\n",
       "       [-1.40751111, -0.86777309],\n",
       "       [-3.28812981, -2.13017513],\n",
       "       [-2.75057754, -1.17916999],\n",
       "       [-2.39286652, -1.61128232],\n",
       "       [-2.79525633, -0.92317952],\n",
       "       [-3.00559666, -0.79628417],\n",
       "       [-3.67868855, -1.31252342],\n",
       "       [-2.10963477, -0.61298199],\n",
       "       [-2.43845636, -0.67852331],\n",
       "       [-3.67349453, -1.14012136],\n",
       "       [-4.44157575, -2.11031917],\n",
       "       [-2.60892387, -1.66641801],\n",
       "       [-2.47542846, -2.33089672],\n",
       "       [-2.22623243, -1.63359016],\n",
       "       [-3.74226929, -2.52840527],\n",
       "       [-2.3944115 , -1.06452946],\n",
       "       [-3.33656895, -0.79601279],\n",
       "       [-1.48140399, -0.24008547],\n",
       "       [-2.82806867,  0.08685755],\n",
       "       [-2.00771405,  0.51561649],\n",
       "       [-2.11463604,  0.31592057],\n",
       "       [-1.39753751, -0.93821529],\n",
       "       [-2.13348803, -0.68710205],\n",
       "       [-1.62970383,  0.09118403],\n",
       "       [-2.50760753, -0.69274983],\n",
       "       [-2.55948318, -0.1954729 ],\n",
       "       [-2.77244452, -1.24635279],\n",
       "       [-2.93513374, -1.47827883],\n",
       "       [-1.99124842, -0.05325201],\n",
       "       [-2.24570987, -1.6346691 ],\n",
       "       [-1.78698628, -0.69748039],\n",
       "       [-2.22763867, -0.17928892],\n",
       "       [-1.76802847, -0.65787231],\n",
       "       [-1.52317798, -0.11222505],\n",
       "       [-1.87236494,  0.76930576],\n",
       "       [-2.79711434, -1.80880887],\n",
       "       [-2.84093569, -0.78616157],\n",
       "       [-1.1055721 , -0.16588492],\n",
       "       [-3.30689482, -1.16395547],\n",
       "       [-0.90479842, -0.32607243],\n",
       "       [-2.39683569,  0.06690594],\n",
       "       [-1.53781235, -1.77507765],\n",
       "       [-2.99121644, -1.19762255],\n",
       "       [-3.05931631, -0.65382196],\n",
       "       [-2.31877146, -1.25023668],\n",
       "       [-2.95947229, -1.75860365],\n",
       "       [-3.4121813 , -0.17691581],\n",
       "       [-3.11637827, -0.75210873],\n",
       "       [-3.70021113, -1.62309187],\n",
       "       [-2.53754828, -1.87852793],\n",
       "       [-2.44478924, -1.02071516],\n",
       "       [-2.72281451, -1.33524369],\n",
       "       [-2.98531677, -1.44363759],\n",
       "       [-2.4881469 , -1.2154925 ],\n",
       "       [-3.35128665, -1.74060283],\n",
       "       [ 0.87492504,  3.07772383],\n",
       "       [ 1.41466076,  1.3899542 ],\n",
       "       [ 1.71387916,  0.83885608],\n",
       "       [-0.01229686,  1.26269589],\n",
       "       [-1.83310122,  1.91338608],\n",
       "       [ 0.57453595,  1.91115097],\n",
       "       [-0.79147116,  0.75872552],\n",
       "       [-2.02003148,  1.87213142],\n",
       "       [-0.14328098,  2.42575691],\n",
       "       [ 0.75150766,  0.22520902],\n",
       "       [-1.74032573,  1.39100815],\n",
       "       [ 1.47630041,  0.89224859],\n",
       "       [-1.49197779,  0.94792708],\n",
       "       [ 0.69396686,  1.06686332],\n",
       "       [-2.29945716, -0.27435851],\n",
       "       [-1.63413138,  1.2773898 ],\n",
       "       [ 0.82899932,  2.44770579],\n",
       "       [-0.30043175,  2.15106456],\n",
       "       [ 1.3611782 ,  1.39034627],\n",
       "       [-1.09604852,  0.76264282],\n",
       "       [-0.31921974,  1.02477043],\n",
       "       [-0.67125757,  3.37052496],\n",
       "       [-0.92411091,  1.44510662],\n",
       "       [ 0.46749204,  2.38376557],\n",
       "       [ 2.35241675,  0.10013996],\n",
       "       [-0.71822325,  1.46811394],\n",
       "       [-0.69829604,  2.02223417],\n",
       "       [ 0.76457439,  2.23750414],\n",
       "       [ 0.52824923,  2.37569723],\n",
       "       [ 1.03785507,  1.80786799],\n",
       "       [ 0.52142425,  2.66038386],\n",
       "       [ 1.25335859,  2.12475639],\n",
       "       [ 1.46070926,  1.8596994 ],\n",
       "       [ 1.79124629,  1.56916323],\n",
       "       [-0.65330428,  2.30839297],\n",
       "       [-0.8361451 ,  2.21754888],\n",
       "       [-2.26060732, -0.18428637],\n",
       "       [ 0.55547283,  0.37012733],\n",
       "       [-0.9149965 ,  2.55963934],\n",
       "       [-2.02098347,  1.42022041],\n",
       "       [-1.26542677,  2.15848251],\n",
       "       [-0.70143229,  2.37221592],\n",
       "       [ 0.53086979,  2.29535505],\n",
       "       [ 0.17615672,  1.16479003],\n",
       "       [ 0.64274197,  2.68228953],\n",
       "       [-0.33770614,  2.09639668],\n",
       "       [ 1.63721155,  1.72636425],\n",
       "       [ 0.35877264,  2.17081862],\n",
       "       [ 1.51311874,  1.36335628],\n",
       "       [-0.03009626,  2.30450774],\n",
       "       [-1.40940236,  1.45311158],\n",
       "       [-1.21824444,  1.40819282],\n",
       "       [ 0.28831462,  1.93122641],\n",
       "       [ 1.19609762,  0.77044262],\n",
       "       [ 0.45161819,  2.27100706],\n",
       "       [ 0.47183886,  1.94138119],\n",
       "       [-0.42339909,  3.86899361],\n",
       "       [ 0.26437653,  2.82191608],\n",
       "       [ 0.13745847,  1.92845353],\n",
       "       [ 2.25047663,  1.26932529],\n",
       "       [ 0.53074498,  2.2244168 ],\n",
       "       [-0.64128735,  1.40431272],\n",
       "       [-1.18436691, -0.2609574 ],\n",
       "       [ 1.10694195,  0.669497  ],\n",
       "       [ 0.45864794,  0.61988848],\n",
       "       [-0.84610722,  1.4391088 ],\n",
       "       [ 0.11653672,  2.10990355],\n",
       "       [ 0.0070867 ,  1.26551112],\n",
       "       [ 1.49530863,  1.21567945],\n",
       "       [ 0.47860169,  1.94027835],\n",
       "       [ 1.66414462,  1.15919147],\n",
       "       [ 1.77894554, -0.17231476],\n",
       "       [ 2.74191892, -0.37085725],\n",
       "       [ 3.25429697, -0.25756346],\n",
       "       [ 2.53036635, -0.36598866],\n",
       "       [ 2.71302437,  0.46387414],\n",
       "       [ 3.34898858, -0.34556216],\n",
       "       [ 4.11716696, -0.14197308],\n",
       "       [ 4.14412844, -0.64721324],\n",
       "       [ 3.3659255 , -0.34041064],\n",
       "       [ 2.71267678, -0.28746438],\n",
       "       [ 3.07164523, -0.27980594],\n",
       "       [ 2.62614546, -0.36823287],\n",
       "       [ 3.26039672, -0.4810908 ],\n",
       "       [ 2.70404699, -0.47745985],\n",
       "       [ 2.59084775, -1.15749987],\n",
       "       [ 2.9540111 , -0.5578515 ],\n",
       "       [ 4.45995006, -0.63547901],\n",
       "       [ 3.82924957, -1.26232962],\n",
       "       [ 3.13365001, -1.56464614],\n",
       "       [ 3.2347141 , -2.03532443],\n",
       "       [ 2.71256472, -2.3538796 ],\n",
       "       [ 2.93094044, -2.04198353],\n",
       "       [ 2.25057425, -1.52795614],\n",
       "       [ 3.09752033, -2.13348176],\n",
       "       [ 3.07705567, -0.40479097],\n",
       "       [ 3.85615824, -1.79208943],\n",
       "       [ 3.20838842, -1.91882788],\n",
       "       [ 3.65849417, -1.30258082],\n",
       "       [ 1.55298183, -3.51909311],\n",
       "       [ 2.05828389, -2.4075461 ],\n",
       "       [ 3.43854934, -0.73054324],\n",
       "       [ 2.58448815, -1.17132839],\n",
       "       [ 3.14445722, -0.54903584],\n",
       "       [ 2.92529398, -0.69265684],\n",
       "       [ 3.26182677, -1.54859057],\n",
       "       [ 3.77758717, -0.87231155],\n",
       "       [ 2.77463925, -2.58870465],\n",
       "       [ 3.24261618, -1.26784789],\n",
       "       [ 2.56374375, -2.07490927],\n",
       "       [ 2.74872948, -2.58508204],\n",
       "       [ 3.4911962 ,  0.2594602 ],\n",
       "       [ 3.9291344 , -0.83738603],\n",
       "       [ 2.81529547, -2.18933614],\n",
       "       [ 3.6279962 , -2.20661701],\n",
       "       [ 2.94272922, -1.7522632 ],\n",
       "       [ 3.02727243, -2.75604024],\n",
       "       [ 2.75522166, -2.29378408],\n",
       "       [ 3.49633565, -2.76060799]])"
      ]
     },
     "execution_count": 9,
     "metadata": {},
     "output_type": "execute_result"
    }
   ],
   "source": [
    "pca_values[:,0:2]"
   ]
  },
  {
   "cell_type": "code",
   "execution_count": 10,
   "metadata": {
    "ExecuteTime": {
     "end_time": "2021-02-18T13:10:00.185593Z",
     "start_time": "2021-02-18T13:09:59.884576Z"
    }
   },
   "outputs": [
    {
     "data": {
      "text/html": [
       "<div>\n",
       "<style scoped>\n",
       "    .dataframe tbody tr th:only-of-type {\n",
       "        vertical-align: middle;\n",
       "    }\n",
       "\n",
       "    .dataframe tbody tr th {\n",
       "        vertical-align: top;\n",
       "    }\n",
       "\n",
       "    .dataframe thead th {\n",
       "        text-align: right;\n",
       "    }\n",
       "</style>\n",
       "<table border=\"1\" class=\"dataframe\">\n",
       "  <thead>\n",
       "    <tr style=\"text-align: right;\">\n",
       "      <th></th>\n",
       "      <th>pc1</th>\n",
       "      <th>pc2</th>\n",
       "    </tr>\n",
       "  </thead>\n",
       "  <tbody>\n",
       "    <tr>\n",
       "      <th>0</th>\n",
       "      <td>-3.522934</td>\n",
       "      <td>-1.453098</td>\n",
       "    </tr>\n",
       "    <tr>\n",
       "      <th>1</th>\n",
       "      <td>-2.528858</td>\n",
       "      <td>0.330019</td>\n",
       "    </tr>\n",
       "    <tr>\n",
       "      <th>2</th>\n",
       "      <td>-2.785029</td>\n",
       "      <td>-1.036936</td>\n",
       "    </tr>\n",
       "    <tr>\n",
       "      <th>3</th>\n",
       "      <td>-3.922588</td>\n",
       "      <td>-2.768210</td>\n",
       "    </tr>\n",
       "    <tr>\n",
       "      <th>4</th>\n",
       "      <td>-1.407511</td>\n",
       "      <td>-0.867773</td>\n",
       "    </tr>\n",
       "    <tr>\n",
       "      <th>...</th>\n",
       "      <td>...</td>\n",
       "      <td>...</td>\n",
       "    </tr>\n",
       "    <tr>\n",
       "      <th>173</th>\n",
       "      <td>3.627996</td>\n",
       "      <td>-2.206617</td>\n",
       "    </tr>\n",
       "    <tr>\n",
       "      <th>174</th>\n",
       "      <td>2.942729</td>\n",
       "      <td>-1.752263</td>\n",
       "    </tr>\n",
       "    <tr>\n",
       "      <th>175</th>\n",
       "      <td>3.027272</td>\n",
       "      <td>-2.756040</td>\n",
       "    </tr>\n",
       "    <tr>\n",
       "      <th>176</th>\n",
       "      <td>2.755222</td>\n",
       "      <td>-2.293784</td>\n",
       "    </tr>\n",
       "    <tr>\n",
       "      <th>177</th>\n",
       "      <td>3.496336</td>\n",
       "      <td>-2.760608</td>\n",
       "    </tr>\n",
       "  </tbody>\n",
       "</table>\n",
       "<p>178 rows × 2 columns</p>\n",
       "</div>"
      ],
      "text/plain": [
       "          pc1       pc2\n",
       "0   -3.522934 -1.453098\n",
       "1   -2.528858  0.330019\n",
       "2   -2.785029 -1.036936\n",
       "3   -3.922588 -2.768210\n",
       "4   -1.407511 -0.867773\n",
       "..        ...       ...\n",
       "173  3.627996 -2.206617\n",
       "174  2.942729 -1.752263\n",
       "175  3.027272 -2.756040\n",
       "176  2.755222 -2.293784\n",
       "177  3.496336 -2.760608\n",
       "\n",
       "[178 rows x 2 columns]"
      ]
     },
     "execution_count": 10,
     "metadata": {},
     "output_type": "execute_result"
    }
   ],
   "source": [
    "finalDf = pd.DataFrame(pca_values[:,0:2],columns=['pc1','pc2'])\n",
    "finalDf"
   ]
  },
  {
   "cell_type": "code",
   "execution_count": 11,
   "metadata": {
    "ExecuteTime": {
     "end_time": "2021-02-18T13:10:01.529670Z",
     "start_time": "2021-02-18T13:10:00.199594Z"
    },
    "scrolled": true
   },
   "outputs": [
    {
     "data": {
      "text/plain": [
       "<AxesSubplot:xlabel='pc1', ylabel='pc2'>"
      ]
     },
     "execution_count": 11,
     "metadata": {},
     "output_type": "execute_result"
    },
    {
     "data": {
      "image/png": "[encoded data removed]",
      "text/plain": [
       "<Figure size 432x288 with 1 Axes>"
      ]
     },
     "metadata": {
      "needs_background": "light"
     },
     "output_type": "display_data"
    }
   ],
   "source": [
    "sns.scatterplot(data=finalDf,x='pc1',y='pc2',s = 100)"
   ]
  },
  {
   "cell_type": "code",
   "execution_count": 12,
   "metadata": {
    "ExecuteTime": {
     "end_time": "2021-02-18T13:10:01.556671Z",
     "start_time": "2021-02-18T13:10:01.533670Z"
    }
   },
   "outputs": [
    {
     "data": {
      "text/plain": [
       "0     -3.522934\n",
       "1     -2.528858\n",
       "2     -2.785029\n",
       "3     -3.922588\n",
       "4     -1.407511\n",
       "         ...   \n",
       "173    3.627996\n",
       "174    2.942729\n",
       "175    3.027272\n",
       "176    2.755222\n",
       "177    3.496336\n",
       "Name: pc1, Length: 178, dtype: float64"
      ]
     },
     "execution_count": 12,
     "metadata": {},
     "output_type": "execute_result"
    }
   ],
   "source": [
    "X = pd.Series(finalDf.pc1)\n",
    "X"
   ]
  },
  {
   "cell_type": "code",
   "execution_count": 13,
   "metadata": {
    "ExecuteTime": {
     "end_time": "2021-02-18T13:10:01.765683Z",
     "start_time": "2021-02-18T13:10:01.584673Z"
    },
    "scrolled": true
   },
   "outputs": [
    {
     "data": {
      "text/plain": [
       "array([-3.5229339 , -2.52885806, -2.78502898, -3.92258841, -1.40751111,\n",
       "       -3.28812981, -2.75057754, -2.39286652, -2.79525633, -3.00559666,\n",
       "       -3.67868855, -2.10963477, -2.43845636, -3.67349453, -4.44157575,\n",
       "       -2.60892387, -2.47542846, -2.22623243, -3.74226929, -2.3944115 ,\n",
       "       -3.33656895, -1.48140399, -2.82806867, -2.00771405, -2.11463604,\n",
       "       -1.39753751, -2.13348803, -1.62970383, -2.50760753, -2.55948318,\n",
       "       -2.77244452, -2.93513374, -1.99124842, -2.24570987, -1.78698628,\n",
       "       -2.22763867, -1.76802847, -1.52317798, -1.87236494, -2.79711434,\n",
       "       -2.84093569, -1.1055721 , -3.30689482, -0.90479842, -2.39683569,\n",
       "       -1.53781235, -2.99121644, -3.05931631, -2.31877146, -2.95947229,\n",
       "       -3.4121813 , -3.11637827, -3.70021113, -2.53754828, -2.44478924,\n",
       "       -2.72281451, -2.98531677, -2.4881469 , -3.35128665,  0.87492504,\n",
       "        1.41466076,  1.71387916, -0.01229686, -1.83310122,  0.57453595,\n",
       "       -0.79147116, -2.02003148, -0.14328098,  0.75150766, -1.74032573,\n",
       "        1.47630041, -1.49197779,  0.69396686, -2.29945716, -1.63413138,\n",
       "        0.82899932, -0.30043175,  1.3611782 , -1.09604852, -0.31921974,\n",
       "       -0.67125757, -0.92411091,  0.46749204,  2.35241675, -0.71822325,\n",
       "       -0.69829604,  0.76457439,  0.52824923,  1.03785507,  0.52142425,\n",
       "        1.25335859,  1.46070926,  1.79124629, -0.65330428, -0.8361451 ,\n",
       "       -2.26060732,  0.55547283, -0.9149965 , -2.02098347, -1.26542677,\n",
       "       -0.70143229,  0.53086979,  0.17615672,  0.64274197, -0.33770614,\n",
       "        1.63721155,  0.35877264,  1.51311874, -0.03009626, -1.40940236,\n",
       "       -1.21824444,  0.28831462,  1.19609762,  0.45161819,  0.47183886,\n",
       "       -0.42339909,  0.26437653,  0.13745847,  2.25047663,  0.53074498,\n",
       "       -0.64128735, -1.18436691,  1.10694195,  0.45864794, -0.84610722,\n",
       "        0.11653672,  0.0070867 ,  1.49530863,  0.47860169,  1.66414462,\n",
       "        1.77894554,  2.74191892,  3.25429697,  2.53036635,  2.71302437,\n",
       "        3.34898858,  4.11716696,  4.14412844,  3.3659255 ,  2.71267678,\n",
       "        3.07164523,  2.62614546,  3.26039672,  2.70404699,  2.59084775,\n",
       "        2.9540111 ,  4.45995006,  3.82924957,  3.13365001,  3.2347141 ,\n",
       "        2.71256472,  2.93094044,  2.25057425,  3.09752033,  3.07705567,\n",
       "        3.85615824,  3.20838842,  3.65849417,  1.55298183,  2.05828389,\n",
       "        3.43854934,  2.58448815,  3.14445722,  2.92529398,  3.26182677,\n",
       "        3.77758717,  2.77463925,  3.24261618,  2.56374375,  2.74872948,\n",
       "        3.4911962 ,  3.9291344 ,  2.81529547,  3.6279962 ,  2.94272922,\n",
       "        3.02727243,  2.75522166,  3.49633565])"
      ]
     },
     "execution_count": 13,
     "metadata": {},
     "output_type": "execute_result"
    }
   ],
   "source": [
    "X = np.array(X)\n",
    "X"
   ]
  },
  {
   "cell_type": "code",
   "execution_count": 14,
   "metadata": {
    "ExecuteTime": {
     "end_time": "2021-02-18T13:10:01.911692Z",
     "start_time": "2021-02-18T13:10:01.778684Z"
    }
   },
   "outputs": [
    {
     "data": {
      "text/plain": [
       "0     -1.453098\n",
       "1      0.330019\n",
       "2     -1.036936\n",
       "3     -2.768210\n",
       "4     -0.867773\n",
       "         ...   \n",
       "173   -2.206617\n",
       "174   -1.752263\n",
       "175   -2.756040\n",
       "176   -2.293784\n",
       "177   -2.760608\n",
       "Name: pc2, Length: 178, dtype: float64"
      ]
     },
     "execution_count": 14,
     "metadata": {},
     "output_type": "execute_result"
    }
   ],
   "source": [
    "Y = pd.Series(finalDf.pc2)\n",
    "Y"
   ]
  },
  {
   "cell_type": "code",
   "execution_count": 15,
   "metadata": {
    "ExecuteTime": {
     "end_time": "2021-02-18T13:10:02.188707Z",
     "start_time": "2021-02-18T13:10:01.914692Z"
    },
    "scrolled": false
   },
   "outputs": [
    {
     "data": {
      "text/plain": [
       "array([-1.45309844,  0.33001925, -1.03693595, -2.76821026, -0.86777309,\n",
       "       -2.13017513, -1.17916999, -1.61128232, -0.92317952, -0.79628417,\n",
       "       -1.31252342, -0.61298199, -0.67852331, -1.14012136, -2.11031917,\n",
       "       -1.66641801, -2.33089672, -1.63359016, -2.52840527, -1.06452946,\n",
       "       -0.79601279, -0.24008547,  0.08685755,  0.51561649,  0.31592057,\n",
       "       -0.93821529, -0.68710205,  0.09118403, -0.69274983, -0.1954729 ,\n",
       "       -1.24635279, -1.47827883, -0.05325201, -1.6346691 , -0.69748039,\n",
       "       -0.17928892, -0.65787231, -0.11222505,  0.76930576, -1.80880887,\n",
       "       -0.78616157, -0.16588492, -1.16395547, -0.32607243,  0.06690594,\n",
       "       -1.77507765, -1.19762255, -0.65382196, -1.25023668, -1.75860365,\n",
       "       -0.17691581, -0.75210873, -1.62309187, -1.87852793, -1.02071516,\n",
       "       -1.33524369, -1.44363759, -1.2154925 , -1.74060283,  3.07772383,\n",
       "        1.3899542 ,  0.83885608,  1.26269589,  1.91338608,  1.91115097,\n",
       "        0.75872552,  1.87213142,  2.42575691,  0.22520902,  1.39100815,\n",
       "        0.89224859,  0.94792708,  1.06686332, -0.27435851,  1.2773898 ,\n",
       "        2.44770579,  2.15106456,  1.39034627,  0.76264282,  1.02477043,\n",
       "        3.37052496,  1.44510662,  2.38376557,  0.10013996,  1.46811394,\n",
       "        2.02223417,  2.23750414,  2.37569723,  1.80786799,  2.66038386,\n",
       "        2.12475639,  1.8596994 ,  1.56916323,  2.30839297,  2.21754888,\n",
       "       -0.18428637,  0.37012733,  2.55963934,  1.42022041,  2.15848251,\n",
       "        2.37221592,  2.29535505,  1.16479003,  2.68228953,  2.09639668,\n",
       "        1.72636425,  2.17081862,  1.36335628,  2.30450774,  1.45311158,\n",
       "        1.40819282,  1.93122641,  0.77044262,  2.27100706,  1.94138119,\n",
       "        3.86899361,  2.82191608,  1.92845353,  1.26932529,  2.2244168 ,\n",
       "        1.40431272, -0.2609574 ,  0.669497  ,  0.61988848,  1.4391088 ,\n",
       "        2.10990355,  1.26551112,  1.21567945,  1.94027835,  1.15919147,\n",
       "       -0.17231476, -0.37085725, -0.25756346, -0.36598866,  0.46387414,\n",
       "       -0.34556216, -0.14197308, -0.64721324, -0.34041064, -0.28746438,\n",
       "       -0.27980594, -0.36823287, -0.4810908 , -0.47745985, -1.15749987,\n",
       "       -0.5578515 , -0.63547901, -1.26232962, -1.56464614, -2.03532443,\n",
       "       -2.3538796 , -2.04198353, -1.52795614, -2.13348176, -0.40479097,\n",
       "       -1.79208943, -1.91882788, -1.30258082, -3.51909311, -2.4075461 ,\n",
       "       -0.73054324, -1.17132839, -0.54903584, -0.69265684, -1.54859057,\n",
       "       -0.87231155, -2.58870465, -1.26784789, -2.07490927, -2.58508204,\n",
       "        0.2594602 , -0.83738603, -2.18933614, -2.20661701, -1.7522632 ,\n",
       "       -2.75604024, -2.29378408, -2.76060799])"
      ]
     },
     "execution_count": 15,
     "metadata": {},
     "output_type": "execute_result"
    }
   ],
   "source": [
    "Y = np.array(Y)\n",
    "Y "
   ]
  },
  {
   "cell_type": "code",
   "execution_count": 16,
   "metadata": {
    "ExecuteTime": {
     "end_time": "2021-02-18T13:10:05.298885Z",
     "start_time": "2021-02-18T13:10:02.195708Z"
    }
   },
   "outputs": [
    {
     "data": {
      "image/png": "[encoded data removed]",
      "text/plain": [
       "<Figure size 432x288 with 1 Axes>"
      ]
     },
     "metadata": {
      "needs_background": "light"
     },
     "output_type": "display_data"
    }
   ],
   "source": [
    "# KMEANS CLUSTERING\n",
    " \n",
    "from sklearn.cluster import KMeans\n",
    "df_xy =pd.DataFrame(columns=[\"X\",\"Y\"])\n",
    "df_xy\n",
    "df_xy.X = X\n",
    "df_xy.Y = Y\n",
    "df_xy\n",
    "df_xy.plot(x=\"X\",y = \"Y\",kind=\"scatter\")\n",
    "model1 = KMeans(n_clusters=5).fit(df_xy)"
   ]
  },
  {
   "cell_type": "code",
   "execution_count": 17,
   "metadata": {
    "ExecuteTime": {
     "end_time": "2021-02-18T13:10:09.685136Z",
     "start_time": "2021-02-18T13:10:05.303886Z"
    }
   },
   "outputs": [
    {
     "data": {
      "image/png": "[encoded data removed]",
      "text/plain": [
       "<Figure size 720x576 with 1 Axes>"
      ]
     },
     "metadata": {
      "needs_background": "light"
     },
     "output_type": "display_data"
    }
   ],
   "source": [
    "fig = plt.figure(figsize=(10, 8))\n",
    "WCSS = []\n",
    "for i in range(1, 11):\n",
    "    clf = KMeans(n_clusters=i)\n",
    "    clf.fit(finalDf)\n",
    "    WCSS.append(clf.inertia_) \n",
    "plt.plot(range(1, 11), WCSS)\n",
    "plt.title('The Elbow Method')\n",
    "plt.ylabel('WCSS')\n",
    "plt.xlabel('Number of Clusters')\n",
    "plt.show()"
   ]
  },
  {
   "cell_type": "code",
   "execution_count": 18,
   "metadata": {
    "ExecuteTime": {
     "end_time": "2021-02-18T13:10:09.833145Z",
     "start_time": "2021-02-18T13:10:09.690136Z"
    }
   },
   "outputs": [],
   "source": [
    "clf = KMeans(n_clusters=3)\n",
    "y_kmeans = clf.fit_predict(finalDf)"
   ]
  },
  {
   "cell_type": "code",
   "execution_count": 19,
   "metadata": {
    "ExecuteTime": {
     "end_time": "2021-02-18T13:10:09.964152Z",
     "start_time": "2021-02-18T13:10:09.843145Z"
    }
   },
   "outputs": [
    {
     "data": {
      "text/plain": [
       "array([0, 0, 0, 0, 0, 0, 0, 0, 0, 0, 0, 0, 0, 0, 0, 0, 0, 0, 0, 0, 0, 0,\n",
       "       0, 0, 0, 0, 0, 0, 0, 0, 0, 0, 0, 0, 0, 0, 0, 0, 0, 0, 0, 0, 0, 0,\n",
       "       0, 0, 0, 0, 0, 0, 0, 0, 0, 0, 0, 0, 0, 0, 0, 1, 1, 1, 1, 1, 1, 1,\n",
       "       1, 1, 1, 1, 1, 1, 1, 0, 1, 1, 1, 1, 1, 1, 1, 1, 1, 2, 1, 1, 1, 1,\n",
       "       1, 1, 1, 1, 1, 1, 1, 0, 1, 1, 1, 1, 1, 1, 1, 1, 1, 1, 1, 1, 1, 1,\n",
       "       1, 1, 1, 1, 1, 1, 1, 1, 1, 1, 1, 0, 1, 1, 1, 1, 1, 1, 1, 1, 2, 2,\n",
       "       2, 2, 2, 2, 2, 2, 2, 2, 2, 2, 2, 2, 2, 2, 2, 2, 2, 2, 2, 2, 2, 2,\n",
       "       2, 2, 2, 2, 2, 2, 2, 2, 2, 2, 2, 2, 2, 2, 2, 2, 2, 2, 2, 2, 2, 2,\n",
       "       2, 2])"
      ]
     },
     "execution_count": 19,
     "metadata": {},
     "output_type": "execute_result"
    }
   ],
   "source": [
    "y_kmeans\n",
    "clf.labels_"
   ]
  },
  {
   "cell_type": "code",
   "execution_count": 20,
   "metadata": {
    "ExecuteTime": {
     "end_time": "2021-02-18T13:10:10.161163Z",
     "start_time": "2021-02-18T13:10:09.968152Z"
    }
   },
   "outputs": [
    {
     "data": {
      "text/html": [
       "<div>\n",
       "<style scoped>\n",
       "    .dataframe tbody tr th:only-of-type {\n",
       "        vertical-align: middle;\n",
       "    }\n",
       "\n",
       "    .dataframe tbody tr th {\n",
       "        vertical-align: top;\n",
       "    }\n",
       "\n",
       "    .dataframe thead th {\n",
       "        text-align: right;\n",
       "    }\n",
       "</style>\n",
       "<table border=\"1\" class=\"dataframe\">\n",
       "  <thead>\n",
       "    <tr style=\"text-align: right;\">\n",
       "      <th></th>\n",
       "      <th>pc1</th>\n",
       "      <th>pc2</th>\n",
       "      <th>clust</th>\n",
       "    </tr>\n",
       "  </thead>\n",
       "  <tbody>\n",
       "    <tr>\n",
       "      <th>0</th>\n",
       "      <td>-3.522934</td>\n",
       "      <td>-1.453098</td>\n",
       "      <td>0</td>\n",
       "    </tr>\n",
       "    <tr>\n",
       "      <th>1</th>\n",
       "      <td>-2.528858</td>\n",
       "      <td>0.330019</td>\n",
       "      <td>0</td>\n",
       "    </tr>\n",
       "    <tr>\n",
       "      <th>2</th>\n",
       "      <td>-2.785029</td>\n",
       "      <td>-1.036936</td>\n",
       "      <td>0</td>\n",
       "    </tr>\n",
       "    <tr>\n",
       "      <th>3</th>\n",
       "      <td>-3.922588</td>\n",
       "      <td>-2.768210</td>\n",
       "      <td>0</td>\n",
       "    </tr>\n",
       "    <tr>\n",
       "      <th>4</th>\n",
       "      <td>-1.407511</td>\n",
       "      <td>-0.867773</td>\n",
       "      <td>0</td>\n",
       "    </tr>\n",
       "    <tr>\n",
       "      <th>...</th>\n",
       "      <td>...</td>\n",
       "      <td>...</td>\n",
       "      <td>...</td>\n",
       "    </tr>\n",
       "    <tr>\n",
       "      <th>173</th>\n",
       "      <td>3.627996</td>\n",
       "      <td>-2.206617</td>\n",
       "      <td>2</td>\n",
       "    </tr>\n",
       "    <tr>\n",
       "      <th>174</th>\n",
       "      <td>2.942729</td>\n",
       "      <td>-1.752263</td>\n",
       "      <td>2</td>\n",
       "    </tr>\n",
       "    <tr>\n",
       "      <th>175</th>\n",
       "      <td>3.027272</td>\n",
       "      <td>-2.756040</td>\n",
       "      <td>2</td>\n",
       "    </tr>\n",
       "    <tr>\n",
       "      <th>176</th>\n",
       "      <td>2.755222</td>\n",
       "      <td>-2.293784</td>\n",
       "      <td>2</td>\n",
       "    </tr>\n",
       "    <tr>\n",
       "      <th>177</th>\n",
       "      <td>3.496336</td>\n",
       "      <td>-2.760608</td>\n",
       "      <td>2</td>\n",
       "    </tr>\n",
       "  </tbody>\n",
       "</table>\n",
       "<p>178 rows × 3 columns</p>\n",
       "</div>"
      ],
      "text/plain": [
       "          pc1       pc2  clust\n",
       "0   -3.522934 -1.453098      0\n",
       "1   -2.528858  0.330019      0\n",
       "2   -2.785029 -1.036936      0\n",
       "3   -3.922588 -2.768210      0\n",
       "4   -1.407511 -0.867773      0\n",
       "..        ...       ...    ...\n",
       "173  3.627996 -2.206617      2\n",
       "174  2.942729 -1.752263      2\n",
       "175  3.027272 -2.756040      2\n",
       "176  2.755222 -2.293784      2\n",
       "177  3.496336 -2.760608      2\n",
       "\n",
       "[178 rows x 3 columns]"
      ]
     },
     "execution_count": 20,
     "metadata": {},
     "output_type": "execute_result"
    }
   ],
   "source": [
    "md=pd.Series(y_kmeans)  \n",
    "finalDf['clust']=md \n",
    "finalDf"
   ]
  },
  {
   "cell_type": "code",
   "execution_count": 21,
   "metadata": {
    "ExecuteTime": {
     "end_time": "2021-02-18T13:10:10.370175Z",
     "start_time": "2021-02-18T13:10:10.165164Z"
    }
   },
   "outputs": [
    {
     "data": {
      "text/html": [
       "<div>\n",
       "<style scoped>\n",
       "    .dataframe tbody tr th:only-of-type {\n",
       "        vertical-align: middle;\n",
       "    }\n",
       "\n",
       "    .dataframe tbody tr th {\n",
       "        vertical-align: top;\n",
       "    }\n",
       "\n",
       "    .dataframe thead th {\n",
       "        text-align: right;\n",
       "    }\n",
       "</style>\n",
       "<table border=\"1\" class=\"dataframe\">\n",
       "  <thead>\n",
       "    <tr style=\"text-align: right;\">\n",
       "      <th></th>\n",
       "      <th>pc1</th>\n",
       "      <th>pc2</th>\n",
       "    </tr>\n",
       "    <tr>\n",
       "      <th>clust</th>\n",
       "      <th></th>\n",
       "      <th></th>\n",
       "    </tr>\n",
       "  </thead>\n",
       "  <tbody>\n",
       "    <tr>\n",
       "      <th>0</th>\n",
       "      <td>-2.548859</td>\n",
       "      <td>-0.936610</td>\n",
       "    </tr>\n",
       "    <tr>\n",
       "      <th>1</th>\n",
       "      <td>0.121711</td>\n",
       "      <td>1.750369</td>\n",
       "    </tr>\n",
       "    <tr>\n",
       "      <th>2</th>\n",
       "      <td>3.058665</td>\n",
       "      <td>-1.208263</td>\n",
       "    </tr>\n",
       "  </tbody>\n",
       "</table>\n",
       "</div>"
      ],
      "text/plain": [
       "            pc1       pc2\n",
       "clust                    \n",
       "0     -2.548859 -0.936610\n",
       "1      0.121711  1.750369\n",
       "2      3.058665 -1.208263"
      ]
     },
     "execution_count": 21,
     "metadata": {},
     "output_type": "execute_result"
    }
   ],
   "source": [
    "finalDf.iloc[:,0:2].groupby(finalDf.clust).mean()"
   ]
  },
  {
   "cell_type": "code",
   "execution_count": 22,
   "metadata": {
    "ExecuteTime": {
     "end_time": "2021-02-18T13:10:11.683250Z",
     "start_time": "2021-02-18T13:10:10.374176Z"
    },
    "scrolled": true
   },
   "outputs": [
    {
     "data": {
      "text/plain": [
       "Text(0.5, 1.0, 'Clusters using KMeans')"
      ]
     },
     "execution_count": 22,
     "metadata": {},
     "output_type": "execute_result"
    },
    {
     "data": {
      "image/png": "[encoded data removed]",
      "text/plain": [
       "<Figure size 432x288 with 2 Axes>"
      ]
     },
     "metadata": {
      "needs_background": "light"
     },
     "output_type": "display_data"
    }
   ],
   "source": [
    "finalDf.plot(x=\"pc1\",y =\"pc2\",c=clf.labels_,kind=\"scatter\",s=50 ,cmap=plt.cm.coolwarm) \n",
    "plt.title('Clusters using KMeans')"
   ]
  },
  {
   "cell_type": "code",
   "execution_count": 23,
   "metadata": {
    "ExecuteTime": {
     "end_time": "2021-02-18T13:16:56.813423Z",
     "start_time": "2021-02-18T13:16:11.297819Z"
    }
   },
   "outputs": [
    {
     "data": {
      "image/png": "[encoded data removed]",
      "text/plain": [
       "<Figure size 1080x360 with 1 Axes>"
      ]
     },
     "metadata": {
      "needs_background": "light"
     },
     "output_type": "display_data"
    }
   ],
   "source": [
    "# HERICAL CLUSTERING\n",
    "\n",
    "from scipy.cluster.hierarchy import linkage \n",
    "import scipy.cluster.hierarchy as sch \n",
    "z = linkage(finalDf, method=\"complete\",metric=\"euclidean\")\n",
    "plt.figure(figsize=(15, 5))\n",
    "plt.title('Hierarchical Clustering Dendrogram')\n",
    "plt.xlabel('Index')\n",
    "plt.ylabel('Distance')\n",
    "sch.dendrogram(\n",
    "    z,)\n",
    "plt.show()"
   ]
  },
  {
   "cell_type": "code",
   "execution_count": 24,
   "metadata": {
    "ExecuteTime": {
     "end_time": "2021-02-18T13:18:35.511068Z",
     "start_time": "2021-02-18T13:18:35.456065Z"
    }
   },
   "outputs": [
    {
     "data": {
      "text/html": [
       "<div>\n",
       "<style scoped>\n",
       "    .dataframe tbody tr th:only-of-type {\n",
       "        vertical-align: middle;\n",
       "    }\n",
       "\n",
       "    .dataframe tbody tr th {\n",
       "        vertical-align: top;\n",
       "    }\n",
       "\n",
       "    .dataframe thead th {\n",
       "        text-align: right;\n",
       "    }\n",
       "</style>\n",
       "<table border=\"1\" class=\"dataframe\">\n",
       "  <thead>\n",
       "    <tr style=\"text-align: right;\">\n",
       "      <th></th>\n",
       "      <th>pc1</th>\n",
       "      <th>pc2</th>\n",
       "      <th>clust</th>\n",
       "    </tr>\n",
       "  </thead>\n",
       "  <tbody>\n",
       "    <tr>\n",
       "      <th>0</th>\n",
       "      <td>-3.522934</td>\n",
       "      <td>-1.453098</td>\n",
       "      <td>0</td>\n",
       "    </tr>\n",
       "    <tr>\n",
       "      <th>1</th>\n",
       "      <td>-2.528858</td>\n",
       "      <td>0.330019</td>\n",
       "      <td>0</td>\n",
       "    </tr>\n",
       "    <tr>\n",
       "      <th>2</th>\n",
       "      <td>-2.785029</td>\n",
       "      <td>-1.036936</td>\n",
       "      <td>0</td>\n",
       "    </tr>\n",
       "    <tr>\n",
       "      <th>3</th>\n",
       "      <td>-3.922588</td>\n",
       "      <td>-2.768210</td>\n",
       "      <td>0</td>\n",
       "    </tr>\n",
       "    <tr>\n",
       "      <th>4</th>\n",
       "      <td>-1.407511</td>\n",
       "      <td>-0.867773</td>\n",
       "      <td>0</td>\n",
       "    </tr>\n",
       "    <tr>\n",
       "      <th>...</th>\n",
       "      <td>...</td>\n",
       "      <td>...</td>\n",
       "      <td>...</td>\n",
       "    </tr>\n",
       "    <tr>\n",
       "      <th>173</th>\n",
       "      <td>3.627996</td>\n",
       "      <td>-2.206617</td>\n",
       "      <td>2</td>\n",
       "    </tr>\n",
       "    <tr>\n",
       "      <th>174</th>\n",
       "      <td>2.942729</td>\n",
       "      <td>-1.752263</td>\n",
       "      <td>2</td>\n",
       "    </tr>\n",
       "    <tr>\n",
       "      <th>175</th>\n",
       "      <td>3.027272</td>\n",
       "      <td>-2.756040</td>\n",
       "      <td>2</td>\n",
       "    </tr>\n",
       "    <tr>\n",
       "      <th>176</th>\n",
       "      <td>2.755222</td>\n",
       "      <td>-2.293784</td>\n",
       "      <td>2</td>\n",
       "    </tr>\n",
       "    <tr>\n",
       "      <th>177</th>\n",
       "      <td>3.496336</td>\n",
       "      <td>-2.760608</td>\n",
       "      <td>2</td>\n",
       "    </tr>\n",
       "  </tbody>\n",
       "</table>\n",
       "<p>178 rows × 3 columns</p>\n",
       "</div>"
      ],
      "text/plain": [
       "          pc1       pc2  clust\n",
       "0   -3.522934 -1.453098      0\n",
       "1   -2.528858  0.330019      0\n",
       "2   -2.785029 -1.036936      0\n",
       "3   -3.922588 -2.768210      0\n",
       "4   -1.407511 -0.867773      0\n",
       "..        ...       ...    ...\n",
       "173  3.627996 -2.206617      2\n",
       "174  2.942729 -1.752263      2\n",
       "175  3.027272 -2.756040      2\n",
       "176  2.755222 -2.293784      2\n",
       "177  3.496336 -2.760608      2\n",
       "\n",
       "[178 rows x 3 columns]"
      ]
     },
     "execution_count": 24,
     "metadata": {},
     "output_type": "execute_result"
    }
   ],
   "source": [
    "from sklearn.cluster import AgglomerativeClustering \n",
    "h_complete = AgglomerativeClustering(n_clusters=5, linkage='complete',affinity = \"euclidean\").fit(finalDf) \n",
    "cluster_labels=pd.Series(h_complete.labels_)\n",
    "cluster_labels\n",
    "finalDf['clust']=cluster_labels\n",
    "finalDf "
   ]
  },
  {
   "cell_type": "code",
   "execution_count": 26,
   "metadata": {
    "ExecuteTime": {
     "end_time": "2021-02-18T13:23:33.455109Z",
     "start_time": "2021-02-18T13:23:33.421107Z"
    }
   },
   "outputs": [
    {
     "data": {
      "text/html": [
       "<div>\n",
       "<style scoped>\n",
       "    .dataframe tbody tr th:only-of-type {\n",
       "        vertical-align: middle;\n",
       "    }\n",
       "\n",
       "    .dataframe tbody tr th {\n",
       "        vertical-align: top;\n",
       "    }\n",
       "\n",
       "    .dataframe thead th {\n",
       "        text-align: right;\n",
       "    }\n",
       "</style>\n",
       "<table border=\"1\" class=\"dataframe\">\n",
       "  <thead>\n",
       "    <tr style=\"text-align: right;\">\n",
       "      <th></th>\n",
       "      <th>pc1</th>\n",
       "      <th>pc2</th>\n",
       "      <th>clust</th>\n",
       "    </tr>\n",
       "    <tr>\n",
       "      <th>clust</th>\n",
       "      <th></th>\n",
       "      <th></th>\n",
       "      <th></th>\n",
       "    </tr>\n",
       "  </thead>\n",
       "  <tbody>\n",
       "    <tr>\n",
       "      <th>0</th>\n",
       "      <td>-2.548859</td>\n",
       "      <td>-0.936610</td>\n",
       "      <td>0</td>\n",
       "    </tr>\n",
       "    <tr>\n",
       "      <th>1</th>\n",
       "      <td>-0.375662</td>\n",
       "      <td>2.050639</td>\n",
       "      <td>1</td>\n",
       "    </tr>\n",
       "    <tr>\n",
       "      <th>2</th>\n",
       "      <td>2.889892</td>\n",
       "      <td>-2.071628</td>\n",
       "      <td>2</td>\n",
       "    </tr>\n",
       "    <tr>\n",
       "      <th>3</th>\n",
       "      <td>1.073209</td>\n",
       "      <td>1.175939</td>\n",
       "      <td>3</td>\n",
       "    </tr>\n",
       "    <tr>\n",
       "      <th>4</th>\n",
       "      <td>3.207964</td>\n",
       "      <td>-0.444516</td>\n",
       "      <td>4</td>\n",
       "    </tr>\n",
       "  </tbody>\n",
       "</table>\n",
       "</div>"
      ],
      "text/plain": [
       "            pc1       pc2  clust\n",
       "clust                           \n",
       "0     -2.548859 -0.936610      0\n",
       "1     -0.375662  2.050639      1\n",
       "2      2.889892 -2.071628      2\n",
       "3      1.073209  1.175939      3\n",
       "4      3.207964 -0.444516      4"
      ]
     },
     "execution_count": 26,
     "metadata": {},
     "output_type": "execute_result"
    }
   ],
   "source": [
    "finalDf.iloc[:,0:].groupby(finalDf.clust).mean()"
   ]
  },
  {
   "cell_type": "code",
   "execution_count": null,
   "metadata": {},
   "outputs": [],
   "source": [
    "# From Herical Clustering , 4 clusters were formed\n",
    "# From Kmeans Clusteing , 3 clusters were formed"
   ]
  }
 ],
 "metadata": {
  "kernelspec": {
   "display_name": "Python 3",
   "language": "python",
   "name": "python3"
  },
  "language_info": {
   "codemirror_mode": {
    "name": "ipython",
    "version": 3
   },
   "file_extension": ".py",
   "mimetype": "text/x-python",
   "name": "python",
   "nbconvert_exporter": "python",
   "pygments_lexer": "ipython3",
   "version": "3.8.5"
  },
  "varInspector": {
   "cols": {
    "lenName": 16,
    "lenType": 16,
    "lenVar": 40
   },
   "kernels_config": {
    "python": {
     "delete_cmd_postfix": "",
     "delete_cmd_prefix": "del ",
     "library": "var_list.py",
     "varRefreshCmd": "print(var_dic_list())"
    },
    "r": {
     "delete_cmd_postfix": ") ",
     "delete_cmd_prefix": "rm(",
     "library": "var_list.r",
     "varRefreshCmd": "cat(var_dic_list()) "
    }
   },
   "types_to_exclude": [
    "module",
    "function",
    "builtin_function_or_method",
    "instance",
    "_Feature"
   ],
   "window_display": false
  }
 },
 "nbformat": 4,
 "nbformat_minor": 4
}
